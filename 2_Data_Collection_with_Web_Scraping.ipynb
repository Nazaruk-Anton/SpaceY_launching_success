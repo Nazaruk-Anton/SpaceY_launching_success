{
  "cells": [
    {
      "metadata": {
        "id": "ZHxhGzWdQeI9"
      },
      "cell_type": "markdown",
      "source": [
        "# **Web scraping Falcon 9 and Falcon Heavy Launches Records from Wikipedia**"
      ]
    },
    {
      "metadata": {
        "id": "YeSQbicKQeI-"
      },
      "cell_type": "markdown",
      "source": [
        "Here I will be performing web scraping to collect Falcon 9 historical launch records from a Wikipedia page titled `List of Falcon 9 and Falcon Heavy launches`\n",
        "\n",
        "[https://en.wikipedia.org/wiki/List_of_Falcon\\_9\\_and_Falcon_Heavy_launches](https://en.wikipedia.org/wiki/List_of_Falcon\\_9\\_and_Falcon_Heavy_launches?utm_medium=Exinfluencer&utm_source=Exinfluencer&utm_content=000026UJ&utm_term=10006555&utm_id=NA-SkillsNetwork-Channel-SkillsNetworkCoursesIBMDS0321ENSkillsNetwork26802033-2022-01-01)\n"
      ]
    },
    {
      "metadata": {
        "id": "f8c4eVo9QeI-"
      },
      "cell_type": "markdown",
      "source": [
        "![](https://cf-courses-data.s3.us.cloud-object-storage.appdomain.cloud/IBM-DS0321EN-SkillsNetwork/labs/module\\_1\\_L2/images/Falcon9\\_rocket_family.svg)\n"
      ]
    },
    {
      "metadata": {
        "id": "bdIFMuVSQeJB"
      },
      "cell_type": "markdown",
      "source": [
        "More specifically, the launch records are stored in a HTML table shown below:\n"
      ]
    },
    {
      "metadata": {
        "id": "UdAxJs1YQeJB"
      },
      "cell_type": "markdown",
      "source": [
        "![](https://cf-courses-data.s3.us.cloud-object-storage.appdomain.cloud/IBM-DS0321EN-SkillsNetwork/labs/module\\_1\\_L2/images/falcon9-launches-wiki.png)\n"
      ]
    },
    {
      "metadata": {
        "id": "Xdax9YkXQeJC"
      },
      "cell_type": "markdown",
      "source": [
        "## Objectives\n",
        "\n",
        "Web scrap Falcon 9 launch records with `BeautifulSoup`:\n",
        "\n",
        "*   Extract a Falcon 9 launch records HTML table from Wikipedia\n",
        "*   Parse the table and convert it into a Pandas data frame\n"
      ]
    },
    {
      "metadata": {
        "id": "WEzIs2dgQeJC"
      },
      "cell_type": "markdown",
      "source": [
        "First let's import required packages for this lab\n"
      ]
    },
    {
      "metadata": {
        "id": "VOUJxvcxQeJD",
        "outputId": "4275e6de-b4d1-41ca-c272-a9ed1a0574d5"
      },
      "cell_type": "code",
      "source": [
        "# Import required packages\n",
        "\n",
        "!pip3 install beautifulsoup4\n",
        "!pip3 install requests"
      ],
      "execution_count": null,
      "outputs": [
        {
          "output_type": "stream",
          "text": "Requirement already satisfied: beautifulsoup4 in /opt/conda/envs/Python-3.9/lib/python3.9/site-packages (4.10.0)\nRequirement already satisfied: soupsieve>1.2 in /opt/conda/envs/Python-3.9/lib/python3.9/site-packages (from beautifulsoup4) (2.3.1)\nRequirement already satisfied: requests in /opt/conda/envs/Python-3.9/lib/python3.9/site-packages (2.26.0)\nRequirement already satisfied: certifi>=2017.4.17 in /opt/conda/envs/Python-3.9/lib/python3.9/site-packages (from requests) (2022.9.24)\nRequirement already satisfied: urllib3<1.27,>=1.21.1 in /opt/conda/envs/Python-3.9/lib/python3.9/site-packages (from requests) (1.26.7)\nRequirement already satisfied: charset-normalizer~=2.0.0 in /opt/conda/envs/Python-3.9/lib/python3.9/site-packages (from requests) (2.0.4)\nRequirement already satisfied: idna<4,>=2.5 in /opt/conda/envs/Python-3.9/lib/python3.9/site-packages (from requests) (3.3)\n",
          "name": "stdout"
        }
      ]
    },
    {
      "metadata": {
        "id": "Njbp64YGQeJF"
      },
      "cell_type": "code",
      "source": [
        "# Import required libraries\n",
        "\n",
        "import sys\n",
        "import requests\n",
        "from bs4 import BeautifulSoup\n",
        "import re\n",
        "import unicodedata\n",
        "import pandas as pd"
      ],
      "execution_count": null,
      "outputs": []
    },
    {
      "metadata": {
        "id": "SRnpwkUUQeJG"
      },
      "cell_type": "code",
      "source": [
        "def date_time(table_cells):\n",
        "    \"\"\"\n",
        "    This function returns the data and time from the HTML  table cell\n",
        "    Input: the  element of a table data cell extracts extra row\n",
        "    \"\"\"\n",
        "    return [data_time.strip() for data_time in list(table_cells.strings)][0:2]\n",
        "\n",
        "def booster_version(table_cells):\n",
        "    \"\"\"\n",
        "    This function returns the booster version from the HTML  table cell \n",
        "    Input: the  element of a table data cell extracts extra row\n",
        "    \"\"\"\n",
        "    out=''.join([booster_version for i,booster_version in enumerate( table_cells.strings) if i%2==0][0:-1])\n",
        "    return out\n",
        "\n",
        "def landing_status(table_cells):\n",
        "    \"\"\"\n",
        "    This function returns the landing status from the HTML table cell \n",
        "    Input: the  element of a table data cell extracts extra row\n",
        "    \"\"\"\n",
        "    out=[i for i in table_cells.strings][0]\n",
        "    return out\n",
        "\n",
        "\n",
        "def get_mass(table_cells):\n",
        "    mass=unicodedata.normalize(\"NFKD\", table_cells.text).strip()\n",
        "    if mass:\n",
        "        mass.find(\"kg\")\n",
        "        new_mass=mass[0:mass.find(\"kg\")+2]\n",
        "    else:\n",
        "        new_mass=0\n",
        "    return new_mass\n",
        "\n",
        "\n",
        "def extract_column_from_header(row):\n",
        "    \"\"\"\n",
        "    This function returns the landing status from the HTML table cell \n",
        "    Input: the  element of a table data cell extracts extra row\n",
        "    \"\"\"\n",
        "    if (row.br):\n",
        "        row.br.extract()\n",
        "    if row.a:\n",
        "        row.a.extract()\n",
        "    if row.sup:\n",
        "        row.sup.extract()\n",
        "        \n",
        "    colunm_name = ' '.join(row.contents)\n",
        "    \n",
        "    # Filter the digit and empty names\n",
        "    if not(colunm_name.strip().isdigit()):\n",
        "        colunm_name = colunm_name.strip()\n",
        "        return colunm_name    \n"
      ],
      "execution_count": null,
      "outputs": []
    },
    {
      "metadata": {
        "id": "Y6E-nYd-QeJG"
      },
      "cell_type": "code",
      "source": [
        "# URL to scrape the data from a snapshot of the  `List of Falcon 9 and Falcon Heavy launches` Wikipage updated on `9th June 2021`\n",
        "\n",
        "static_url = \"https://en.wikipedia.org/w/index.php?title=List_of_Falcon_9_and_Falcon_Heavy_launches&oldid=1027686922\""
      ],
      "execution_count": null,
      "outputs": []
    },
    {
      "metadata": {
        "id": "H_9veV1FQeJH"
      },
      "cell_type": "markdown",
      "source": [
        "### Request the Falcon9 Launch Wiki page from its URL\n"
      ]
    },
    {
      "metadata": {
        "id": "5fFGbP2kQeJH"
      },
      "cell_type": "code",
      "source": [
        "# GET method to request the Falcon9 Launch HTML page\n",
        "response = requests.get(static_url).text\n",
        "\n",
        "# Creating a BeautifulSoup object from the HTML response\n",
        "soup = BeautifulSoup(response)\n",
        "\n",
        "# Printing the page title to verify if the BeautifulSoup object was created properly\n",
        "soup.title"
      ],
      "execution_count": null,
      "outputs": []
    },
    {
      "metadata": {
        "id": "cU2z0UEfQeJI"
      },
      "cell_type": "markdown",
      "source": [
        "### Extract all column/variable names from the HTML table header\n"
      ]
    },
    {
      "metadata": {
        "id": "lUjxQB3EQeJJ"
      },
      "cell_type": "code",
      "source": [
        "# finding all tables on the wiki page first\n",
        "html_tables = soup.find_all(name = \"tr\")\n",
        "\n",
        "# Starting from the third table is our target table contains the actual launch records.\n",
        "first_launch_table = html_tables[2]\n",
        "print(first_launch_table)"
      ],
      "execution_count": null,
      "outputs": []
    },
    {
      "metadata": {
        "id": "p7_Wv2DcQeJK",
        "outputId": "67a0411a-a304-4959-eff6-f3dddcec6e6e"
      },
      "cell_type": "code",
      "source": [
        "column_names = []\n",
        "\n",
        "# iterate through the <th> elements and apply the provided extract_column_from_header()\n",
        "# to extract column name one by one\n",
        "\n",
        "for head_cell in first_launch_table.find_all(name=\"th\"):\n",
        "    head = extract_column_from_header(head_cell)\n",
        "    if head != None and len(head) > 0:\n",
        "        column_names.append(head)"
      ],
      "execution_count": null,
      "outputs": [
        {
          "output_type": "execute_result",
          "execution_count": 30,
          "data": {
            "text/plain": "['Flight No.',\n 'Date and time ( )',\n 'Launch site',\n 'Payload',\n 'Payload mass',\n 'Orbit',\n 'Customer',\n 'Launch outcome']"
          },
          "metadata": {}
        }
      ]
    },
    {
      "metadata": {
        "id": "DwE302-0QeJL",
        "outputId": "c125cf30-2922-4c6d-ffaf-5e872ac748bd"
      },
      "cell_type": "code",
      "source": [
        "# Check the extracted column names\n",
        "\n",
        "print(column_names)"
      ],
      "execution_count": null,
      "outputs": [
        {
          "output_type": "stream",
          "text": "['Flight No.', 'Date and time ( )', 'Launch site', 'Payload', 'Payload mass', 'Orbit', 'Customer', 'Launch outcome']\n",
          "name": "stdout"
        }
      ]
    },
    {
      "metadata": {
        "id": "_lMbSY16QeJL"
      },
      "cell_type": "markdown",
      "source": [
        "## Create a data frame by parsing the launch HTML tables\n"
      ]
    },
    {
      "metadata": {
        "id": "FdBWdQDaQeJL"
      },
      "cell_type": "code",
      "source": [
        "launch_dict= dict.fromkeys(column_names)\n",
        "\n",
        "# Remove an irrelvant column\n",
        "del launch_dict['Date and time ( )']\n",
        "\n",
        "launch_dict['Flight No.'] = []\n",
        "launch_dict['Launch site'] = []\n",
        "launch_dict['Payload'] = []\n",
        "launch_dict['Payload mass'] = []\n",
        "launch_dict['Orbit'] = []\n",
        "launch_dict['Customer'] = []\n",
        "launch_dict['Launch outcome'] = []\n",
        "\n",
        "# Added some new columns\n",
        "launch_dict['Version Booster']=[]\n",
        "launch_dict['Booster landing']=[]\n",
        "launch_dict['Date']=[]\n",
        "launch_dict['Time']=[]"
      ],
      "execution_count": null,
      "outputs": []
    },
    {
      "metadata": {
        "id": "EiWlpMgJQeJN"
      },
      "cell_type": "markdown",
      "source": [
        "To simplify the parsing process, we have provided an incomplete code snippet below to help you to fill up the `launch_dict`. Please complete the following code snippet with TODOs or you can choose to write your own logic to parse all launch tables:\n"
      ]
    },
    {
      "metadata": {
        "id": "inAkQ6BZQeJN"
      },
      "cell_type": "code",
      "source": [
        "extracted_row = 0\n",
        "#Extract each table \n",
        "for table_number,table in enumerate(soup.find_all('table',\"wikitable plainrowheaders collapsible\")):\n",
        "   # get table row \n",
        "    for rows in table.find_all(\"tr\"):\n",
        "        #check to see if first table heading is as number corresponding to launch a number \n",
        "        if rows.th:\n",
        "            if rows.th.string:\n",
        "                flight_number=rows.th.string.strip()\n",
        "                flag=flight_number.isdigit()\n",
        "        else:\n",
        "            flag=False\n",
        "        #get table element \n",
        "        row=rows.find_all('td')\n",
        "        #if it is number save cells in a dictonary \n",
        "        if flag:\n",
        "            extracted_row += 1\n",
        "            # Flight Number value\n",
        "            launch_dict['Flight No.'].append(flight_number)\n",
        "            datatimelist=date_time(row[0])\n",
        "            \n",
        "            # Date value\n",
        "            date = datatimelist[0].strip(',')\n",
        "            launch_dict['Date'].append(date)\n",
        "\n",
        "            # Time value\n",
        "            time = datatimelist[1]\n",
        "            launch_dict['Time'].append(time)\n",
        "              \n",
        "            # Booster version\n",
        "            bv=booster_version(row[1])\n",
        "            if not(bv):\n",
        "                bv=row[1].a.string\n",
        "            launch_dict['Version Booster'].append(bv)    \n",
        "            \n",
        "            # Launch Site\n",
        "            launch_site = row[2].a.string\n",
        "            launch_dict['Launch site'].append(launch_site)\n",
        "            \n",
        "            # Payload\n",
        "            payload = row[3].a.string\n",
        "            launch_dict['Payload'].append(payload)\n",
        "            \n",
        "            # Payload Mass\n",
        "            payload_mass = get_mass(row[4])\n",
        "            launch_dict['Payload mass'].append(payload_mass)\n",
        "            \n",
        "            # Orbit\n",
        "            orbit = row[5].a.string\n",
        "            launch_dict['Orbit'].append(orbit)\n",
        "            \n",
        "            # Customer\n",
        "            #Added Try Except to handle badly formed data from table in Customer column.\n",
        "            try:\n",
        "                customer = row[6].a.string\n",
        "            except(TypeError, AttributeError) as e:\n",
        "                customer = \"Various\"\n",
        "            \n",
        "            launch_dict['Customer'].append(customer)\n",
        "            \n",
        "            # Launch outcome\n",
        "            launch_outcome = list(row[7].strings)[0]\n",
        "            launch_dict['Launch outcome'].append(launch_outcome)\n",
        "            \n",
        "            # Booster landing\n",
        "            booster_landing = landing_status(row[8])\n",
        "            launch_dict['Booster landing'].append(booster_landing)"
      ],
      "execution_count": null,
      "outputs": []
    },
    {
      "metadata": {
        "id": "9F_cytQcQeJO"
      },
      "cell_type": "code",
      "source": [
        "df = pd.DataFrame.from_dict(launch_dict, orient='index')"
      ],
      "execution_count": null,
      "outputs": []
    },
    {
      "cell_type": "code",
      "source": [
        "df.to_csv('spacex_web_scraped.csv', index=False)"
      ],
      "metadata": {
        "id": "dUmrYFsoTEQS"
      },
      "execution_count": null,
      "outputs": []
    }
  ],
  "metadata": {
    "kernelspec": {
      "name": "python3",
      "display_name": "Python 3.9",
      "language": "python"
    },
    "language_info": {
      "name": "python",
      "version": "3.9.13",
      "mimetype": "text/x-python",
      "codemirror_mode": {
        "name": "ipython",
        "version": 3
      },
      "pygments_lexer": "ipython3",
      "nbconvert_exporter": "python",
      "file_extension": ".py"
    },
    "colab": {
      "provenance": [],
      "collapsed_sections": []
    }
  },
  "nbformat": 4,
  "nbformat_minor": 0
}