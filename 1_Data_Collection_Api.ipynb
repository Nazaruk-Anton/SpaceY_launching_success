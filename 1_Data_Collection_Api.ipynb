{
  "cells": [
    {
      "metadata": {
        "id": "NiaGYunDN4c3"
      },
      "cell_type": "markdown",
      "source": [
        "# **SpaceX  Falcon 9 first stage Landing Prediction**\n"
      ]
    },
    {
      "metadata": {
        "id": "bNH1PXP9N4c3"
      },
      "cell_type": "markdown",
      "source": [
        "# Collecting the data API\n"
      ]
    },
    {
      "metadata": {
        "id": "L6U4dw20N4c4"
      },
      "cell_type": "markdown",
      "source": [
        "In this project, I will predict if the Falcon 9 first stage will land successfully. SpaceX advertises Falcon 9 rocket launches on its website with a cost of 62 million dollars; other providers cost upward of 165 million dollars each, much of the savings is because SpaceX can reuse the first stage. Therefore if we can determine if the first stage will land, we can determine the cost of a launch. This information can be used if an alternate company wants to bid against SpaceX for a rocket launch. The following is an example of a successful and launch.\n"
      ]
    },
    {
      "metadata": {
        "id": "HmUsptWTN4c5"
      },
      "cell_type": "markdown",
      "source": [
        "![](https://cf-courses-data.s3.us.cloud-object-storage.appdomain.cloud/IBMDeveloperSkillsNetwork-DS0701EN-SkillsNetwork/lab_v2/images/landing\\_1.gif)\n"
      ]
    },
    {
      "metadata": {
        "id": "0LJwY0LzN4c5"
      },
      "cell_type": "markdown",
      "source": [
        "Several examples of an unsuccessful landing are shown here:\n"
      ]
    },
    {
      "metadata": {
        "id": "3hTHDQDlN4c6"
      },
      "cell_type": "markdown",
      "source": [
        "![](https://cf-courses-data.s3.us.cloud-object-storage.appdomain.cloud/IBMDeveloperSkillsNetwork-DS0701EN-SkillsNetwork/lab_v2/images/crash.gif)\n"
      ]
    },
    {
      "metadata": {
        "id": "cWUYXafoN4c7"
      },
      "cell_type": "markdown",
      "source": [
        "Most unsuccessful landings are planned. Space X performs a controlled landing in the oceans.\n"
      ]
    },
    {
      "metadata": {
        "id": "J4QDji1TN4c7"
      },
      "cell_type": "markdown",
      "source": [
        "## Objectives\n"
      ]
    },
    {
      "metadata": {
        "id": "gi32t_0BN4c8"
      },
      "cell_type": "markdown",
      "source": [
        "\n",
        "*   Request to the SpaceX API\n",
        "*   Clean the requested data\n"
      ]
    },
    {
      "metadata": {
        "id": "BVcA_KcdN4c8"
      },
      "cell_type": "markdown",
      "source": [
        "***\n"
      ]
    },
    {
      "metadata": {
        "id": "lFN2vD6wN4c9"
      },
      "cell_type": "markdown",
      "source": [
        "## Import Libraries and Define Auxiliary Functions\n"
      ]
    },
    {
      "metadata": {
        "id": "IzelPJnwN4c9"
      },
      "cell_type": "markdown",
      "source": [
        "We will import the following libraries into the lab\n"
      ]
    },
    {
      "metadata": {
        "id": "ldKuLQ76N4c9"
      },
      "cell_type": "code",
      "source": [
        "# Import required libraries\n",
        "\n",
        "import requests\n",
        "import pandas as pd\n",
        "import numpy as np\n",
        "import datetime\n",
        "\n",
        "pd.set_option('display.max_columns', None)\n",
        "pd.set_option('display.max_colwidth', None)"
      ],
      "execution_count": null,
      "outputs": []
    },
    {
      "metadata": {
        "id": "_CjBk_0zN4c_"
      },
      "cell_type": "code",
      "source": [
        "# Takes the dataset and uses the rocket column to call the API and append the data to the list\n",
        "def getBoosterVersion(data):\n",
        "    for x in data['rocket']:\n",
        "        if x:\n",
        "            response = requests.get(\"https://api.spacexdata.com/v4/rockets/\"+str(x)).json()\n",
        "            BoosterVersion.append(response['name'])"
      ],
      "execution_count": null,
      "outputs": []
    },
    {
      "metadata": {
        "id": "SVHB047kN4dA"
      },
      "cell_type": "code",
      "source": [
        "# Takes the dataset and uses the launchpad column to call the API and append the data to the list\n",
        "def getLaunchSite(data):\n",
        "    for x in data['launchpad']:\n",
        "        if x:\n",
        "            response = requests.get(\"https://api.spacexdata.com/v4/launchpads/\"+str(x)).json()\n",
        "            Longitude.append(response['longitude'])\n",
        "            Latitude.append(response['latitude'])\n",
        "            LaunchSite.append(response['name'])"
      ],
      "execution_count": null,
      "outputs": []
    },
    {
      "metadata": {
        "id": "UAfODT7GN4dA"
      },
      "cell_type": "code",
      "source": [
        "# Takes the dataset and uses the payloads column to call the API and append the data to the lists\n",
        "def getPayloadData(data):\n",
        "    for load in data['payloads']:\n",
        "        if load:\n",
        "            response = requests.get(\"https://api.spacexdata.com/v4/payloads/\"+load).json()\n",
        "            PayloadMass.append(response['mass_kg'])\n",
        "            Orbit.append(response['orbit'])"
      ],
      "execution_count": null,
      "outputs": []
    },
    {
      "metadata": {
        "id": "vlXUOuL-N4dB"
      },
      "cell_type": "code",
      "source": [
        "# Takes the dataset and uses the cores column to call the API and append the data to the lists\n",
        "def getCoreData(data):\n",
        "    for core in data['cores']:\n",
        "            if core['core'] != None:\n",
        "                response = requests.get(\"https://api.spacexdata.com/v4/cores/\"+core['core']).json()\n",
        "                Block.append(response['block'])\n",
        "                ReusedCount.append(response['reuse_count'])\n",
        "                Serial.append(response['serial'])\n",
        "            else:\n",
        "                Block.append(None)\n",
        "                ReusedCount.append(None)\n",
        "                Serial.append(None)\n",
        "            Outcome.append(str(core['landing_success'])+' '+str(core['landing_type']))\n",
        "            Flights.append(core['flight'])\n",
        "            GridFins.append(core['gridfins'])\n",
        "            Reused.append(core['reused'])\n",
        "            Legs.append(core['legs'])\n",
        "            LandingPad.append(core['landpad'])"
      ],
      "execution_count": null,
      "outputs": []
    },
    {
      "metadata": {
        "id": "BVwIFgM1N4dB"
      },
      "cell_type": "markdown",
      "source": [
        "Now let's start requesting rocket launch data from SpaceX API with the following URL:\n"
      ]
    },
    {
      "metadata": {
        "id": "WUM5PVGaN4dC"
      },
      "cell_type": "code",
      "source": [
        "spacex_url=\"https://api.spacexdata.com/v4/launches/past\"\n",
        "\n",
        "response = requests.get(spacex_url)"
      ],
      "execution_count": null,
      "outputs": []
    },
    {
      "metadata": {
        "id": "Ak8RJNsgN4dC"
      },
      "cell_type": "markdown",
      "source": [
        "Check the content of the response\n"
      ]
    },
    {
      "metadata": {
        "id": "FgXYdu6SN4dC"
      },
      "cell_type": "code",
      "source": [
        "print(response.content)"
      ],
      "execution_count": null,
      "outputs": []
    },
    {
      "metadata": {
        "id": "BbtdY8LtN4dD"
      },
      "cell_type": "markdown",
      "source": [
        "### Request and parse the SpaceX launch data using the GET request\n"
      ]
    },
    {
      "metadata": {
        "id": "_1M-TSpBN4dD"
      },
      "cell_type": "markdown",
      "source": [
        "To make the requested JSON results more consistent, I will use the following static response object for this project:\n"
      ]
    },
    {
      "metadata": {
        "id": "UVnrU9f2N4dE"
      },
      "cell_type": "code",
      "source": [
        "static_json_url='https://cf-courses-data.s3.us.cloud-object-storage.appdomain.cloud/IBM-DS0321EN-SkillsNetwork/datasets/API_call_spacex_api.json'\n",
        "\n"
      ],
      "execution_count": null,
      "outputs": []
    },
    {
      "metadata": {
        "id": "ZDtBVVpUN4dE",
        "outputId": "a35b7bcf-8ee6-4773-9fc7-71f81cbc2535"
      },
      "cell_type": "code",
      "source": [
        "response.status_code"
      ],
      "execution_count": null,
      "outputs": [
        {
          "output_type": "execute_result",
          "execution_count": 8,
          "data": {
            "text/plain": "200"
          },
          "metadata": {}
        }
      ]
    },
    {
      "metadata": {
        "id": "9p2ln614N4dE"
      },
      "cell_type": "code",
      "source": [
        "# Use json_normalize method to convert the json result into a dataframe\n",
        "data = pd.json_normalize(response.json())\n",
        "# Get the head of the dataframe\n",
        "data.head()"
      ],
      "execution_count": null,
      "outputs": []
    },
    {
      "metadata": {
        "id": "gwxQGjJQN4dF"
      },
      "cell_type": "code",
      "source": [
        "# Lets take a subset of our dataframe keeping only the features we want and the flight number, and date_utc.\n",
        "data = data[['rocket', 'payloads', 'launchpad', 'cores', 'flight_number', 'date_utc']]\n",
        "\n",
        "# Removing rows with multiple cores because those are falcon rockets with 2 extra rocket boosters and rows that have multiple payloads in a single rocket.\n",
        "data = data[data['cores'].map(len)==1]\n",
        "data = data[data['payloads'].map(len)==1]\n",
        "\n",
        "# Since payloads and cores are lists of size 1 we will also extract the single value in the list and replace the feature.\n",
        "data['cores'] = data['cores'].map(lambda x : x[0])\n",
        "data['payloads'] = data['payloads'].map(lambda x : x[0])\n",
        "\n",
        "# Converting the date_utc to a datetime datatype and then extracting the date leaving the time\n",
        "data['date'] = pd.to_datetime(data['date_utc']).dt.date\n",
        "\n",
        "# Using the date to restrict the dates of the launches\n",
        "data = data[data['date'] <= datetime.date(2020, 11, 13)]"
      ],
      "execution_count": null,
      "outputs": []
    },
    {
      "metadata": {
        "id": "IXuP757BN4dG"
      },
      "cell_type": "code",
      "source": [
        "#Global variables \n",
        "BoosterVersion = []\n",
        "PayloadMass = []\n",
        "Orbit = []\n",
        "LaunchSite = []\n",
        "Outcome = []\n",
        "Flights = []\n",
        "GridFins = []\n",
        "Reused = []\n",
        "Legs = []\n",
        "LandingPad = []\n",
        "Block = []\n",
        "ReusedCount = []\n",
        "Serial = []\n",
        "Longitude = []\n",
        "Latitude = []"
      ],
      "execution_count": null,
      "outputs": []
    },
    {
      "metadata": {
        "id": "wIBhiVQDN4dH"
      },
      "cell_type": "code",
      "source": [
        "# Call getBoosterVersion\n",
        "getBoosterVersion(data)\n",
        "# Call getLaunchSite\n",
        "getLaunchSite(data)\n",
        "# Call getPayloadData\n",
        "getPayloadData(data)\n",
        "# Call getCoreData\n",
        "getCoreData(data)"
      ],
      "execution_count": null,
      "outputs": []
    },
    {
      "metadata": {
        "id": "1uFBfekNN4dI"
      },
      "cell_type": "code",
      "source": [
        "launch_dict = {'FlightNumber': list(data['flight_number']),\n",
        "                'Date': list(data['date']),\n",
        "                'BoosterVersion':BoosterVersion,\n",
        "                'PayloadMass':PayloadMass,\n",
        "                'Orbit':Orbit,\n",
        "                'LaunchSite':LaunchSite,\n",
        "                'Outcome':Outcome,\n",
        "                'Flights':Flights,\n",
        "                'GridFins':GridFins,\n",
        "                'Reused':Reused,\n",
        "                'Legs':Legs,\n",
        "                'LandingPad':LandingPad,\n",
        "                'Block':Block,\n",
        "                'ReusedCount':ReusedCount,\n",
        "                'Serial':Serial,\n",
        "                'Longitude': Longitude,\n",
        "                'Latitude': Latitude}\n"
      ],
      "execution_count": null,
      "outputs": []
    },
    {
      "metadata": {
        "id": "YX47aBVyN4dJ"
      },
      "cell_type": "code",
      "source": [
        "# Create a data from launch_dict\n",
        "df = pd.DataFrame.from_dict(launch_dict)"
      ],
      "execution_count": null,
      "outputs": []
    },
    {
      "metadata": {
        "id": "VFMhPMCzN4dJ"
      },
      "cell_type": "markdown",
      "source": [
        "### Filter the dataframe to only include `Falcon 9` launches\n"
      ]
    },
    {
      "metadata": {
        "id": "Kg0lO-6aN4dK"
      },
      "cell_type": "code",
      "source": [
        "data_falcon9 = df[df['BoosterVersion']!='Falcon 1']\n",
        "data_falcon9.loc[:,'FlightNumber'] = list(range(1, data_falcon9.shape[0]+1))\n",
        "data_falcon9"
      ],
      "execution_count": null,
      "outputs": []
    },
    {
      "metadata": {
        "id": "Q0vO26wkN4dK"
      },
      "cell_type": "markdown",
      "source": [
        "## Data Wrangling\n"
      ]
    },
    {
      "metadata": {
        "id": "sWxSe7R3N4dL"
      },
      "cell_type": "markdown",
      "source": [
        "We can see below that some of the rows are missing values in our dataset.\n"
      ]
    },
    {
      "metadata": {
        "id": "3bfrDS0sN4dL",
        "outputId": "7251ac03-3342-41bb-8cfb-eb2c623dcaa3"
      },
      "cell_type": "code",
      "source": [
        "# see below that some of the rows are missing values in the dataset.\n",
        "data_falcon9.isnull().sum()"
      ],
      "execution_count": null,
      "outputs": [
        {
          "output_type": "execute_result",
          "execution_count": 45,
          "data": {
            "text/plain": "FlightNumber       0\nDate               0\nBoosterVersion     0\nPayloadMass        5\nOrbit              0\nLaunchSite         0\nOutcome            0\nFlights            0\nGridFins           0\nReused             0\nLegs               0\nLandingPad        26\nBlock              0\nReusedCount        0\nSerial             0\nLongitude          0\nLatitude           0\ndtype: int64"
          },
          "metadata": {}
        }
      ]
    },
    {
      "metadata": {
        "id": "eQGZDcFbN4dM"
      },
      "cell_type": "markdown",
      "source": [
        "### Dealing with Missing Values\n"
      ]
    },
    {
      "metadata": {
        "id": "JUWXHqclN4dM",
        "outputId": "7372dd5f-d5c9-4e17-a42c-2a458490eb4d"
      },
      "cell_type": "code",
      "source": [
        "# Calculate the mean value of PayloadMass column\n",
        "mean_payloadmass = data_falcon9.PayloadMass.mean()\n",
        "# Replace the np.nan values with its mean value\n",
        "data_falcon9[\"PayloadMass\"] = data_falcon9[\"PayloadMass\"].replace(np.nan, mean_payloadmass)\n",
        "\n",
        "data_falcon9.isnull().sum()"
      ],
      "execution_count": null,
      "outputs": [
        {
          "output_type": "stream",
          "text": "/tmp/wsuser/ipykernel_164/3356293744.py:4: SettingWithCopyWarning: \nA value is trying to be set on a copy of a slice from a DataFrame.\nTry using .loc[row_indexer,col_indexer] = value instead\n\nSee the caveats in the documentation: https://pandas.pydata.org/pandas-docs/stable/user_guide/indexing.html#returning-a-view-versus-a-copy\n  data_falcon9[\"PayloadMass\"] = data_falcon9[\"PayloadMass\"].replace(np.nan, mean_payloadmass)\n",
          "name": "stderr"
        }
      ]
    },
    {
      "metadata": {
        "id": "NiE8oo7dN4dN"
      },
      "cell_type": "code",
      "source": [
        "data_falcon9.to_csv('dataset_part_1.csv', index=False)\n"
      ],
      "execution_count": null,
      "outputs": []
    }
  ],
  "metadata": {
    "kernelspec": {
      "name": "python3",
      "display_name": "Python 3.9",
      "language": "python"
    },
    "language_info": {
      "name": "python",
      "version": "3.9.13",
      "mimetype": "text/x-python",
      "codemirror_mode": {
        "name": "ipython",
        "version": 3
      },
      "pygments_lexer": "ipython3",
      "nbconvert_exporter": "python",
      "file_extension": ".py"
    },
    "colab": {
      "provenance": [],
      "collapsed_sections": []
    }
  },
  "nbformat": 4,
  "nbformat_minor": 0
}